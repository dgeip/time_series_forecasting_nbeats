{
  "nbformat": 4,
  "nbformat_minor": 0,
  "metadata": {
    "colab": {
      "provenance": [],
      "gpuType": "T4",
      "include_colab_link": true
    },
    "kernelspec": {
      "name": "python3",
      "display_name": "Python 3"
    },
    "language_info": {
      "name": "python"
    },
    "accelerator": "GPU"
  },
  "cells": [
    {
      "cell_type": "markdown",
      "metadata": {
        "id": "view-in-github",
        "colab_type": "text"
      },
      "source": [
        "<a href=\"https://colab.research.google.com/github/dgeip/time_series_forecasting_nbeats/blob/main/time_series_forecasting.ipynb\" target=\"_parent\"><img src=\"https://colab.research.google.com/assets/colab-badge.svg\" alt=\"Open In Colab\"/></a>"
      ]
    },
    {
      "cell_type": "markdown",
      "source": [
        "# Time Series Forecasting Project\n",
        "\n",
        "\n",
        "The Time Series Forecasting project I managed and coded while interning as a Data Analyst at MUDO, a retail company. The time series forecasting project is an artificial neural network project that uses NBeats and estimates the future sales of a piece."
      ],
      "metadata": {
        "id": "a_WvLLgPBaTO"
      }
    },
    {
      "cell_type": "code",
      "execution_count": null,
      "metadata": {
        "id": "VEg6wVKG5oPU"
      },
      "outputs": [],
      "source": [
        "import pandas as pd\n",
        "import numpy as np\n",
        "import matplotlib.pyplot as plt\n",
        "import seaborn as sns"
      ]
    },
    {
      "cell_type": "code",
      "source": [
        "data = pd.read_excel(\"GM61-TS.xlsx\")"
      ],
      "metadata": {
        "id": "QX6qLWt65t1X"
      },
      "execution_count": null,
      "outputs": []
    },
    {
      "cell_type": "code",
      "source": [
        "# Negatif satışları 0'a baskılama\n",
        "data.Satış[data.Satış < 0] = 0"
      ],
      "metadata": {
        "id": "avWzVAn4Qgs9",
        "colab": {
          "base_uri": "https://localhost:8080/"
        },
        "outputId": "a4e4016e-2d5f-4002-bbc7-10032dff0023"
      },
      "execution_count": null,
      "outputs": [
        {
          "output_type": "stream",
          "name": "stderr",
          "text": [
            "<ipython-input-46-662741e28fa1>:2: SettingWithCopyWarning: \n",
            "A value is trying to be set on a copy of a slice from a DataFrame\n",
            "\n",
            "See the caveats in the documentation: https://pandas.pydata.org/pandas-docs/stable/user_guide/indexing.html#returning-a-view-versus-a-copy\n",
            "  data.Satış[data.Satış < 0] = 0\n"
          ]
        }
      ]
    },
    {
      "cell_type": "code",
      "source": [
        "sns.lineplot(x = data.index, y= data.Satış)"
      ],
      "metadata": {
        "colab": {
          "base_uri": "https://localhost:8080/",
          "height": 447
        },
        "id": "RSSQehhbExSb",
        "outputId": "966697d3-43ee-4e4a-c918-45538ae8565a"
      },
      "execution_count": null,
      "outputs": [
        {
          "output_type": "execute_result",
          "data": {
            "text/plain": [
              "<Axes: ylabel='Satış'>"
            ]
          },
          "metadata": {},
          "execution_count": 47
        },
        {
          "output_type": "display_data",
          "data": {
            "text/plain": [
              "<Figure size 640x480 with 1 Axes>"
            ],
            "image/png": "[encoded data removed]"
          },
          "metadata": {}
        }
      ]
    },
    {
      "cell_type": "code",
      "source": [
        "data = data.drop([\"Key\"], axis = 1)"
      ],
      "metadata": {
        "id": "tTHbZBhxNyYU"
      },
      "execution_count": null,
      "outputs": []
    },
    {
      "cell_type": "code",
      "source": [
        "# %80 train, %10 validation, %10 test\n",
        "train_size = int(len(data['Satış'].values.reshape(-1,1)) * 0.8)\n",
        "train_to_val_size = int(len(data['Satış'].values.reshape(-1,1)) * 0.9)"
      ],
      "metadata": {
        "id": "XOari4OTts6O"
      },
      "execution_count": null,
      "outputs": []
    },
    {
      "cell_type": "code",
      "source": [
        "import tensorflow as tf\n",
        "from tensorflow.keras import layers\n",
        "from tensorflow import keras"
      ],
      "metadata": {
        "id": "7lBRLg_Mocvg"
      },
      "execution_count": null,
      "outputs": []
    },
    {
      "cell_type": "code",
      "source": [
        "# 4 hafta lag ile 1 hafta ilerisi tahmin edilecek\n",
        "HORIZON = 1\n",
        "WINDOW_SIZE = 4"
      ],
      "metadata": {
        "id": "lSBTjIcJCZBj"
      },
      "execution_count": null,
      "outputs": []
    },
    {
      "cell_type": "code",
      "source": [
        "#laglı değerlerin oluşturulması\n",
        "for i in range(WINDOW_SIZE):\n",
        "  data[f\"Satış+{i+1}\"] = data[\"Satış\"].shift(periods = i+1)"
      ],
      "metadata": {
        "id": "IvcDTWoZDehg"
      },
      "execution_count": null,
      "outputs": []
    },
    {
      "cell_type": "code",
      "source": [
        "X = data.dropna().drop([\"Satış\"], axis=1)\n",
        "y = data.dropna()[\"Satış\"]"
      ],
      "metadata": {
        "id": "gqZFwLMNtVjA"
      },
      "execution_count": null,
      "outputs": []
    },
    {
      "cell_type": "code",
      "source": [
        "X_feature= X[[\"Yıl\",\t\"Hafta\", \"Renk\", \"Keten\"]]\n",
        "X_lag= X.drop([\"Marj\",\"Yıl\",\t\"Hafta\", \"Renk\", \"Keten\"], axis = 1)"
      ],
      "metadata": {
        "id": "Vgy6g6C16PPN"
      },
      "execution_count": null,
      "outputs": []
    },
    {
      "cell_type": "code",
      "source": [
        "from sklearn.preprocessing import MinMaxScaler\n",
        "scaler = MinMaxScaler()"
      ],
      "metadata": {
        "id": "EnskQE6Qui2A"
      },
      "execution_count": null,
      "outputs": []
    },
    {
      "cell_type": "code",
      "source": [
        "X_feature = pd.get_dummies(X_feature)"
      ],
      "metadata": {
        "id": "N9Fy7byWt6uG"
      },
      "execution_count": null,
      "outputs": []
    },
    {
      "cell_type": "code",
      "source": [
        "X_feat_train, X_feat_val, X_feat_test = X_feature[:train_size],X_feature[train_size:train_to_val_size], X_feature[train_to_val_size:]\n",
        "y_train, y_val, y_test = y[:train_size],y[train_size:train_to_val_size],y[train_to_val_size:]"
      ],
      "metadata": {
        "id": "fUlj7cyeB1Ch"
      },
      "execution_count": null,
      "outputs": []
    },
    {
      "cell_type": "code",
      "source": [
        "X_ft_train_scaled = scaler.fit_transform(X_feat_train)\n",
        "X_ft_val_scaled = scaler.transform(X_feat_val)\n",
        "X_ft_test_scaled = scaler.transform(X_feat_test)"
      ],
      "metadata": {
        "id": "shLAA-6GB9bI"
      },
      "execution_count": null,
      "outputs": []
    },
    {
      "cell_type": "code",
      "source": [
        "scaler2 = MinMaxScaler()\n",
        "X_lag_train, X_lag_val, X_lag_test = X_lag[:train_size],X_lag[train_size:train_to_val_size], X_lag[train_to_val_size:]"
      ],
      "metadata": {
        "id": "9_-cmv_z8Uj-"
      },
      "execution_count": null,
      "outputs": []
    },
    {
      "cell_type": "code",
      "source": [
        "X_lag_train_scaled = scaler2.fit_transform(X_lag_train)\n",
        "X_lag_val_scaled = scaler2.transform(X_lag_val)\n",
        "X_lag_test_scaled = scaler2.transform(X_lag_test)"
      ],
      "metadata": {
        "id": "3a77_N3_8fvp"
      },
      "execution_count": null,
      "outputs": []
    },
    {
      "cell_type": "code",
      "source": [
        "X_ft_train_scaled.shape, X_ft_val_scaled.shape, X_ft_test_scaled.shape, X_lag_train_scaled.shape, X_lag_val_scaled.shape, X_lag_test_scaled.shape"
      ],
      "metadata": {
        "colab": {
          "base_uri": "https://localhost:8080/"
        },
        "id": "qdbxFUVmuM96",
        "outputId": "4bb42761-5839-4783-ada8-6792589d816c"
      },
      "execution_count": null,
      "outputs": [
        {
          "output_type": "execute_result",
          "data": {
            "text/plain": [
              "((2598, 17), (325, 17), (321, 17), (2598, 4), (325, 4), (321, 4))"
            ]
          },
          "metadata": {},
          "execution_count": 66
        }
      ]
    },
    {
      "cell_type": "code",
      "source": [
        "y_train.shape, y_val.shape, y_test.shape"
      ],
      "metadata": {
        "colab": {
          "base_uri": "https://localhost:8080/"
        },
        "id": "dboYP8x55wrU",
        "outputId": "0018bca6-1b3f-4890-d8a1-42375077aef7"
      },
      "execution_count": null,
      "outputs": [
        {
          "output_type": "execute_result",
          "data": {
            "text/plain": [
              "((2598,), (325,), (321,))"
            ]
          },
          "metadata": {},
          "execution_count": 67
        }
      ]
    },
    {
      "cell_type": "code",
      "source": [
        "class NBeatsBlock(tf.keras.layers.Layer):\n",
        "  def __init__(self, # the constructor takes all the hyperparameters for the layer\n",
        "               input_size: int,\n",
        "               theta_size: int,\n",
        "               horizon: int,\n",
        "               n_neurons: int,\n",
        "               n_layers: int,\n",
        "               **kwargs): # the **kwargs argument takes care of all of the arguments for the parent class (input_shape, trainable, name)\n",
        "    super().__init__(**kwargs)\n",
        "    self.input_size = input_size\n",
        "    self.theta_size = theta_size\n",
        "    self.horizon = horizon\n",
        "    self.n_neurons = n_neurons\n",
        "    self.n_layers = n_layers\n",
        "\n",
        "    # Block contains stack of 4 fully connected layers each has ReLU activation\n",
        "    self.hidden = [tf.keras.layers.Dense(n_neurons, activation=\"relu\") for _ in range(n_layers)]\n",
        "    # Output of block is a theta layer with linear activation\n",
        "    self.theta_layer = tf.keras.layers.Dense(theta_size, activation=\"linear\", name=\"theta\")\n",
        "\n",
        "  def call(self, inputs): # the call method is what runs when the layer is called\n",
        "    x = inputs\n",
        "    for layer in self.hidden: # pass inputs through each hidden layer\n",
        "      x = layer(x)\n",
        "    theta = self.theta_layer(x)\n",
        "    # Output the backcast and forecast from theta\n",
        "    backcast, forecast = theta[:, :self.input_size], theta[:, -self.horizon:]\n",
        "    return backcast, forecast"
      ],
      "metadata": {
        "id": "1uMRnm5ljvQx"
      },
      "execution_count": null,
      "outputs": []
    },
    {
      "cell_type": "code",
      "source": [
        "# Values from N-BEATS paper Figure 1 and Table 18/Appendix D\n",
        "WINDOW_SIZE = 4\n",
        "HORIZON = 1\n",
        "N_EPOCHS = 5000 # called \"Iterations\" in Table 18\n",
        "N_NEURONS = 512 # called \"Width\" in Table 18\n",
        "N_LAYERS = 4\n",
        "N_STACKS = 30\n",
        "\n",
        "INPUT_SIZE = WINDOW_SIZE * HORIZON # called \"Lookback\" in Table 18\n",
        "THETA_SIZE = INPUT_SIZE + HORIZON\n",
        "\n",
        "INPUT_SIZE, THETA_SIZE"
      ],
      "metadata": {
        "colab": {
          "base_uri": "https://localhost:8080/"
        },
        "id": "RTt3y6kskUC_",
        "outputId": "a2f508cd-adc9-4faa-fc29-b4454236e646"
      },
      "execution_count": null,
      "outputs": [
        {
          "output_type": "execute_result",
          "data": {
            "text/plain": [
              "(4, 5)"
            ]
          },
          "metadata": {},
          "execution_count": 70
        }
      ]
    },
    {
      "cell_type": "code",
      "source": [
        "# 1. Setup N-BEATS Block layer\n",
        "nbeats_block_layer = NBeatsBlock(input_size=INPUT_SIZE,\n",
        "                                 theta_size=THETA_SIZE,\n",
        "                                 horizon=HORIZON,\n",
        "                                 n_neurons=N_NEURONS,\n",
        "                                 n_layers=N_LAYERS)\n",
        "\n",
        "# 2. Create input to stacks\n",
        "stack_input = layers.Input(shape=(INPUT_SIZE))\n",
        "\n",
        "# 3. Create initial backcast and forecast input (backwards predictions are referred to as residuals in the paper)\n",
        "backcast, forecast = nbeats_block_layer(stack_input)\n",
        "# Add in subtraction residual link, thank you to: https://github.com/mrdbourke/tensorflow-deep-learning/discussions/174\n",
        "residuals = layers.subtract([stack_input, backcast])\n",
        "\n",
        "# 4. Create stacks of blocks\n",
        "for i, _ in enumerate(range(N_STACKS-1)): # first stack is already creted in (3)\n",
        "\n",
        "  # 5. Use the NBeatsBlock to calculate the backcast as well as block forecast\n",
        "  backcast, block_forecast = NBeatsBlock(\n",
        "      input_size=INPUT_SIZE,\n",
        "      theta_size=THETA_SIZE,\n",
        "      horizon=HORIZON,\n",
        "      n_neurons=N_NEURONS,\n",
        "      n_layers=N_LAYERS\n",
        "  )(residuals) # pass it in residuals (the backcast)\n",
        "\n",
        "  # 6. Create the double residual stacking\n",
        "  residuals = layers.subtract([residuals, backcast])\n",
        "  forecast = layers.add([forecast, block_forecast])\n",
        "\n",
        "feature_input = layers.Input(shape = X_ft_train_scaled.shape[1])\n",
        "\n",
        "x = layers.Concatenate()([forecast, feature_input])\n",
        "x = layers.Dense(128, activation = \"relu\")(x)\n",
        "x = layers.Dropout((0.2))(x)\n",
        "x = layers.Dense(64, activation = \"relu\")(x)\n",
        "x = layers.Dropout((0.2))(x)\n",
        "x = layers.Dense(32, activation = \"relu\")(x)\n",
        "x = layers.Dropout((0.2))(x)\n",
        "output = layers.Dense(1, activation = \"linear\")(x)\n",
        "\n",
        "# 7. Put the stack model together\n",
        "mv_model_nbeats_2 = tf.keras.Model(inputs=[stack_input, feature_input],\n",
        "                                 outputs=output)\n"
      ],
      "metadata": {
        "id": "-P0pD6PEgDNS"
      },
      "execution_count": null,
      "outputs": []
    },
    {
      "cell_type": "code",
      "source": [
        "keras.utils.plot_model(mv_model_nbeats_2)"
      ],
      "metadata": {
        "id": "fgxBU2hC1Avm"
      },
      "execution_count": null,
      "outputs": []
    },
    {
      "cell_type": "code",
      "source": [
        "mv_model_nbeats_2.compile(optimizer=tf.keras.optimizers.Adam(0.001), loss=\"mae\")"
      ],
      "metadata": {
        "id": "UlV50ry2jq2L"
      },
      "execution_count": null,
      "outputs": []
    },
    {
      "cell_type": "code",
      "source": [
        "mv_model_nbeats_2.fit([X_lag_train_scaled, X_ft_train_scaled], y_train,\n",
        "                    epochs=N_EPOCHS,\n",
        "                    validation_data= ([X_lag_val_scaled, X_ft_val_scaled], y_val),\n",
        "                    verbose= 1, # prevent large amounts of training outputs\n",
        "                    # callbacks=[create_model_checkpoint(model_name=stack_model.name)] # saving model every epoch consumes far too much time\n",
        "                    callbacks=[tf.keras.callbacks.EarlyStopping(monitor=\"val_loss\", patience=100, restore_best_weights=True),\n",
        "                               tf.keras.callbacks.ReduceLROnPlateau(monitor=\"val_loss\", patience=100, verbose=1)])"
      ],
      "metadata": {
        "id": "-Ubt-M-Fj7o4"
      },
      "execution_count": null,
      "outputs": []
    },
    {
      "cell_type": "code",
      "source": [
        "mv_model_nbeats_2.evaluate([X_lag_train_scaled, X_ft_train_scaled], y_train)\n",
        "mv_model_nbeats_2.evaluate([X_lag_val_scaled, X_ft_val_scaled], y_val)"
      ],
      "metadata": {
        "colab": {
          "base_uri": "https://localhost:8080/"
        },
        "id": "VCLNhASOkBSt",
        "outputId": "2d2d0083-eb11-45e9-f594-c642f016f1ab"
      },
      "execution_count": null,
      "outputs": [
        {
          "output_type": "stream",
          "name": "stdout",
          "text": [
            "82/82 [==============================] - 1s 9ms/step - loss: 3.0236\n",
            "11/11 [==============================] - 0s 9ms/step - loss: 1.5754\n"
          ]
        },
        {
          "output_type": "execute_result",
          "data": {
            "text/plain": [
              "1.5754179954528809"
            ]
          },
          "metadata": {},
          "execution_count": 76
        }
      ]
    },
    {
      "cell_type": "code",
      "source": [
        "print(f\"Sum of test set is: {np.sum(y_test)}\")\n",
        "print(f\"Sum of predicted test set is: {np.sum(np.around(mv_model_nbeats_2.predict([X_lag_test_scaled, X_ft_test_scaled])).flatten())}\")"
      ],
      "metadata": {
        "id": "NeOGnrOIpZYP",
        "colab": {
          "base_uri": "https://localhost:8080/"
        },
        "outputId": "bcd5e757-fb03-43b0-f728-51a10455d209"
      },
      "execution_count": null,
      "outputs": [
        {
          "output_type": "stream",
          "name": "stdout",
          "text": [
            "Sum of test set is: 4364\n",
            "11/11 [==============================] - 1s 13ms/step\n",
            "Sum of predicted test set is: 3738.0\n"
          ]
        }
      ]
    },
    {
      "cell_type": "code",
      "source": [
        "X_test = X[[\"Marj\", \"Yıl\",\t\"Hafta\", \"Renk\", \"Keten\"]][train_to_val_size:]"
      ],
      "metadata": {
        "id": "I6HY-j5txDCG"
      },
      "execution_count": null,
      "outputs": []
    },
    {
      "cell_type": "code",
      "source": [
        "pd.DataFrame({\"Yıl\": X_test.Yıl,\n",
        "              \"Hafta\": X_test.Hafta,\n",
        "              \"Renk\": X_test.Renk,\n",
        "              \"Marj\": X_test.Marj,\n",
        "              \"Keten\": X_test.Keten,\n",
        "              \"pred\": np.around(mv_model_nbeats_2.predict([X_lag_test_scaled, X_ft_test_scaled])).flatten(),\n",
        "              \"obs\": y_test}).to_excel(\"multivarNBEATS-GM61.xlsx\")"
      ],
      "metadata": {
        "colab": {
          "base_uri": "https://localhost:8080/"
        },
        "id": "YgfwmpkBwEdQ",
        "outputId": "0e87e7d7-1bc9-4702-bc16-557cae246e9e"
      },
      "execution_count": null,
      "outputs": [
        {
          "output_type": "stream",
          "name": "stdout",
          "text": [
            "11/11 [==============================] - 0s 19ms/step\n"
          ]
        }
      ]
    }
  ]
}